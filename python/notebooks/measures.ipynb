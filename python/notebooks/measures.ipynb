{
 "metadata": {
  "name": "learning_to_deal_with_measures"
 },
 "nbformat": 3,
 "nbformat_minor": 0,
 "worksheets": [
  {
   "cells": [
    {
     "cell_type": "code",
     "collapsed": false,
     "input": [
      "import pandas\n",
      "import csv, sys\n",
      "csv.field_size_limit(sys.maxint)\n",
      "import os"
     ],
     "language": "python",
     "metadata": {},
     "outputs": [],
     "prompt_number": 4
    },
    {
     "cell_type": "code",
     "collapsed": false,
     "input": [
      "folder = '/Users/garcia/Dropbox/simulationResults/repeatedgameswithmistakes/fourth_trial_with_measures/'"
     ],
     "language": "python",
     "metadata": {},
     "outputs": [],
     "prompt_number": 1
    },
    {
     "cell_type": "code",
     "collapsed": false,
     "input": [
      "files = !ls /Users/garcia/Dropbox/simulationResults/repeatedgameswithmistakes/fourth_trial_with_measures/*.csv"
     ],
     "language": "python",
     "metadata": {},
     "outputs": [],
     "prompt_number": 2
    },
    {
     "cell_type": "code",
     "collapsed": false,
     "input": [
      "files"
     ],
     "language": "python",
     "metadata": {},
     "outputs": [
      {
       "output_type": "pyout",
       "prompt_number": 3,
       "text": [
        "['/Users/garcia/Dropbox/simulationResults/repeatedgameswithmistakes/fourth_trial_with_measures/tr_4_time_game_1_scheme_bias_mistake_0.0.csv',\n",
        " '/Users/garcia/Dropbox/simulationResults/repeatedgameswithmistakes/fourth_trial_with_measures/tr_4_time_game_1_scheme_bias_mistake_0.01.csv',\n",
        " '/Users/garcia/Dropbox/simulationResults/repeatedgameswithmistakes/fourth_trial_with_measures/tr_4_time_game_1_scheme_bias_mistake_0.0625.csv',\n",
        " '/Users/garcia/Dropbox/simulationResults/repeatedgameswithmistakes/fourth_trial_with_measures/tr_4_time_game_1_scheme_bias_mistake_0.125.csv',\n",
        " '/Users/garcia/Dropbox/simulationResults/repeatedgameswithmistakes/fourth_trial_with_measures/tr_4_time_game_1_scheme_stingy_mistake_0.0.csv',\n",
        " '/Users/garcia/Dropbox/simulationResults/repeatedgameswithmistakes/fourth_trial_with_measures/tr_4_time_game_1_scheme_stingy_mistake_0.01.csv',\n",
        " '/Users/garcia/Dropbox/simulationResults/repeatedgameswithmistakes/fourth_trial_with_measures/tr_4_time_game_1_scheme_stingy_mistake_0.0625.csv',\n",
        " '/Users/garcia/Dropbox/simulationResults/repeatedgameswithmistakes/fourth_trial_with_measures/tr_4_time_game_1_scheme_stingy_mistake_0.125.csv',\n",
        " '/Users/garcia/Dropbox/simulationResults/repeatedgameswithmistakes/fourth_trial_with_measures/tr_4_time_game_1_scheme_uniform_mistake_0.0.csv',\n",
        " '/Users/garcia/Dropbox/simulationResults/repeatedgameswithmistakes/fourth_trial_with_measures/tr_4_time_game_1_scheme_uniform_mistake_0.01.csv',\n",
        " '/Users/garcia/Dropbox/simulationResults/repeatedgameswithmistakes/fourth_trial_with_measures/tr_4_time_game_1_scheme_uniform_mistake_0.0625.csv',\n",
        " '/Users/garcia/Dropbox/simulationResults/repeatedgameswithmistakes/fourth_trial_with_measures/tr_4_time_game_1_scheme_uniform_mistake_0.125.csv',\n",
        " '/Users/garcia/Dropbox/simulationResults/repeatedgameswithmistakes/fourth_trial_with_measures/tr_4_time_game_2_scheme_bias_mistake_0.0.csv',\n",
        " '/Users/garcia/Dropbox/simulationResults/repeatedgameswithmistakes/fourth_trial_with_measures/tr_4_time_game_2_scheme_bias_mistake_0.01.csv',\n",
        " '/Users/garcia/Dropbox/simulationResults/repeatedgameswithmistakes/fourth_trial_with_measures/tr_4_time_game_2_scheme_bias_mistake_0.0625.csv',\n",
        " '/Users/garcia/Dropbox/simulationResults/repeatedgameswithmistakes/fourth_trial_with_measures/tr_4_time_game_2_scheme_bias_mistake_0.125.csv',\n",
        " '/Users/garcia/Dropbox/simulationResults/repeatedgameswithmistakes/fourth_trial_with_measures/tr_4_time_game_2_scheme_stingy_mistake_0.0.csv',\n",
        " '/Users/garcia/Dropbox/simulationResults/repeatedgameswithmistakes/fourth_trial_with_measures/tr_4_time_game_2_scheme_stingy_mistake_0.01.csv',\n",
        " '/Users/garcia/Dropbox/simulationResults/repeatedgameswithmistakes/fourth_trial_with_measures/tr_4_time_game_2_scheme_stingy_mistake_0.0625.csv',\n",
        " '/Users/garcia/Dropbox/simulationResults/repeatedgameswithmistakes/fourth_trial_with_measures/tr_4_time_game_2_scheme_stingy_mistake_0.125.csv',\n",
        " '/Users/garcia/Dropbox/simulationResults/repeatedgameswithmistakes/fourth_trial_with_measures/tr_4_time_game_2_scheme_uniform_mistake_0.0.csv',\n",
        " '/Users/garcia/Dropbox/simulationResults/repeatedgameswithmistakes/fourth_trial_with_measures/tr_4_time_game_2_scheme_uniform_mistake_0.01.csv',\n",
        " '/Users/garcia/Dropbox/simulationResults/repeatedgameswithmistakes/fourth_trial_with_measures/tr_4_time_game_2_scheme_uniform_mistake_0.0625.csv',\n",
        " '/Users/garcia/Dropbox/simulationResults/repeatedgameswithmistakes/fourth_trial_with_measures/tr_4_time_game_2_scheme_uniform_mistake_0.125.csv']"
       ]
      }
     ],
     "prompt_number": 3
    },
    {
     "cell_type": "code",
     "collapsed": false,
     "input": [
      "df = pandas.read_csv(files[0])"
     ],
     "language": "python",
     "metadata": {},
     "outputs": [],
     "prompt_number": 23
    },
    {
     "cell_type": "code",
     "collapsed": false,
     "input": [
      "df"
     ],
     "language": "python",
     "metadata": {},
     "outputs": [
      {
       "output_type": "pyout",
       "prompt_number": 24,
       "text": [
        "<class 'pandas.core.frame.DataFrame'>\n",
        "Int64Index: 10001 entries, 0 to 10000\n",
        "Data columns:\n",
        "timeStep       10001  non-null values\n",
        "totalPayoff    10001  non-null values\n",
        "population     10001  non-null values\n",
        "Leniency       19  non-null values\n",
        "Forgiveness    10  non-null values\n",
        "TotalCoop      10001  non-null values\n",
        "dtypes: float64(4), int64(1), object(1)"
       ]
      }
     ],
     "prompt_number": 24
    },
    {
     "cell_type": "code",
     "collapsed": false,
     "input": [
      "print \"Forgiveness\"\n",
      "print \"Minimum value: \" + str(df['Forgiveness'].min())\n",
      "print \"Mean value: \" + str(df['Forgiveness'].mean())\n",
      "print \"Median value : \" + str(df['Forgiveness'].median())\n",
      "print \"Maximum value: \" + str(df['Forgiveness'].max())\n",
      "print \"Non-null values: \" + str(df['Forgiveness'].count())\n",
      "print \"Number of records: \" + str(size(df['Forgiveness']))"
     ],
     "language": "python",
     "metadata": {},
     "outputs": [
      {
       "output_type": "stream",
       "stream": "stdout",
       "text": [
        "Forgiveness\n",
        "Minimum value: 0.0\n",
        "Minimum value: 0.283333333333\n",
        "Median value : 0.0"
       ]
      },
      {
       "output_type": "stream",
       "stream": "stdout",
       "text": [
        "\n",
        "Maximum value: 1.0\n",
        "Non-null values: 10\n",
        "Number of records: 10001\n"
       ]
      }
     ],
     "prompt_number": 42
    },
    {
     "cell_type": "code",
     "collapsed": false,
     "input": [
      "df['Forgiveness'].hist()\n",
      "not_null_pc = int(df['Forgiveness'].count())\n",
      "cadena_titulo = 'Forgiveness per gen \\n  mean:' + str(df['Forgiveness'].mean()) + '\\n data points used: ' + str(not_null_pc)\n",
      "plt.title(cadena_titulo)"
     ],
     "language": "python",
     "metadata": {},
     "outputs": [
      {
       "output_type": "pyout",
       "prompt_number": 85,
       "text": [
        "<matplotlib.text.Text at 0x9d9ba90>"
       ]
      },
      {
       "output_type": "display_data",
       "png": "[encoded data removed]"
      }
     ],
     "prompt_number": 85
    },
    {
     "cell_type": "code",
     "collapsed": false,
     "input": [
      "df['averagePayoff'] = df['totalPayoff']/200.0\n",
      "df['averagePayoff'].hist(color='r')\n",
      "plt.title('Average payoff distribution')"
     ],
     "language": "python",
     "metadata": {},
     "outputs": [
      {
       "output_type": "pyout",
       "prompt_number": 55,
       "text": [
        "<matplotlib.text.Text at 0x8511390>"
       ]
      },
      {
       "output_type": "display_data",
       "png": "[encoded data removed]"
      }
     ],
     "prompt_number": 55
    },
    {
     "cell_type": "code",
     "collapsed": false,
     "input": [],
     "language": "python",
     "metadata": {},
     "outputs": []
    }
   ],
   "metadata": {}
  }
 ]
}