{
 "metadata": {
  "name": "best_reponse"
 },
 "nbformat": 3,
 "nbformat_minor": 0,
 "worksheets": [
  {
   "cells": [
    {
     "cell_type": "code",
     "collapsed": false,
     "input": [
      "from collections import namedtuple\n",
      "import scipy.misc\n",
      "import os\n",
      "import pydot\n",
      "import re\n",
      "\n",
      "\n",
      "def find_between(s, pre, post=''):\n",
      "    result = re.search(pre+'(.*)'+post, s)\n",
      "    return result.group(1)\n",
      "\n",
      "State = namedtuple('State', 'action DD CD DC CC')\n",
      "RepeatedGame = namedtuple('RepeatedGame', 'r s t p continuationProbability')"
     ],
     "language": "python",
     "metadata": {},
     "outputs": [],
     "prompt_number": 1
    },
    {
     "cell_type": "code",
     "collapsed": false,
     "input": [
      "def best_response(list_of_states):\n",
      "    size = len(list_of_states)\n",
      "    table = dict()\n",
      "    "
     ],
     "language": "python",
     "metadata": {},
     "outputs": []
    }
   ],
   "metadata": {}
  }
 ]
}